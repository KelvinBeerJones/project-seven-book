{
 "cells": [
  {
   "cell_type": "markdown",
   "id": "0191446e",
   "metadata": {},
   "source": [
    "# P7 Chapter 5a Thomas Hodgkin MD's networks - Part one #"
   ]
  },
  {
   "cell_type": "markdown",
   "id": "a0cd1ad2",
   "metadata": {},
   "source": [
    "## Chapter 6 Section 6.22  ##"
   ]
  },
  {
   "cell_type": "markdown",
   "id": "83080898",
   "metadata": {},
   "source": [
    "file_name: jnb_hddt_laidlaw"
   ]
  },
  {
   "cell_type": "markdown",
   "id": "0ba183c2",
   "metadata": {},
   "source": [
    "# 5.1 Protecting the Empire's Humanity: Thomas Hodgkin and British Colonial     Activism 1830 - 1870 (Zoë Laidlaw 2021)  #"
   ]
  },
  {
   "cell_type": "markdown",
   "id": "09cf4a89",
   "metadata": {},
   "source": [
    "This 'HDDT - JNB' exercise analyses the persons listed in the index to Protecting the Empire's Humanity (Laidlaw 2021), (PEH), and correspondence received by and correspondence sent to Thomas Hodgkin MD 1799 - 1861, in the indexes to the Wellcome Inst., Hodgkin Family Archives. Selected persons from both archives are then compared with the CEDA database persons. The relationship between the three datasets is then examined to determine the extent to which the networks overlap or fit together; if a Hodgkin political activist network, then emerges, how central is that network to the activism of the wider CEDA network and do insights emerge that might indicate who the key influencers in the network might be?"
   ]
  },
  {
   "cell_type": "markdown",
   "id": "79f03156",
   "metadata": {},
   "source": [
    "# 5.2 GitHub #"
   ]
  },
  {
   "cell_type": "markdown",
   "id": "7c0e552f",
   "metadata": {},
   "source": [
    "Make a private GitHub repository for the exercise and clone it to the University of Birmingham secure server space allocated for this project. https://github.com/KelvinBeerJones/jnb_hddt_laidlaw cloned to: http://localhost:8888/tree/OneDrive%20-20University%20of%20Birmingham/HDDT/jnb_project_containers/jnb_hddt_laidlaw"
   ]
  },
  {
   "cell_type": "markdown",
   "id": "2711d654",
   "metadata": {},
   "source": [
    "# 5.3 Call up the python packages needed to perform the analysis #"
   ]
  },
  {
   "cell_type": "markdown",
   "id": "a833ada8",
   "metadata": {},
   "source": [
    "1. Pandas, numpy and pyplotlib, which we will use to create tables and charts in the Workbook.\n",
    "2. Plot.rc to specify the dimensions for all imported images (this keeps images to a uniform size and shape).\n",
    "3. Itemgetter, NetworkX and nbconvert to create a Gexf file for Gephi, which is used to generate visualisation graph files and to enable visual analysis of the social networks to take place. \n",
    "4. A csv reader to extract the selected sqlite database data from the curated views."
   ]
  },
  {
   "cell_type": "code",
   "execution_count": 1,
   "id": "570fa29e",
   "metadata": {},
   "outputs": [],
   "source": [
    "import pandas as pd\n",
    "import numpy as np\n",
    "import matplotlib.pyplot as plt\n",
    "plt.rc('figure', figsize=(20, 10))\n",
    "from IPython.display import set_matplotlib_formats\n",
    "set_matplotlib_formats('png', 'pdf')\n",
    "from operator import itemgetter\n",
    "import networkx as nx\n",
    "from networkx.algorithms import community \n",
    "\n",
    "#This part of networkx, \n",
    "# for community detection, needs to be imported separately.\n",
    "import nbconvert\n",
    "import csv\n",
    "\n",
    "# <img src=\"xxxx.png\">"
   ]
  },
  {
   "cell_type": "markdown",
   "id": "44d70363",
   "metadata": {},
   "source": [
    "# 5.4 Call up the csv files from the SQL db and prepare data for Gephi # "
   ]
  },
  {
   "cell_type": "code",
   "execution_count": 2,
   "id": "6833a7db",
   "metadata": {},
   "outputs": [],
   "source": [
    "# produce a 'names' file of nodes and a 'tuples' file of edges_attributes\n",
    "# to generate the files need to produce GefX files for Gephi.\n",
    "\n",
    "person_names = pd.read_csv ('vw_hddt_person_table.csv')\n",
    "\n",
    "person_data_source = pd.read_csv ('vw_hddt_person_with_data_source.csv')\n",
    "\n",
    "# Use these csv files in the 'with open' statements below \n",
    "# to generate locations.gexf\n",
    "\n",
    "names = pd.read_csv ('vw_hddt_person_name.csv')# For nodes csv\n",
    "tuples = pd.read_csv ('vw_hddt_ceda_tuples.csv')# For edges.csv\n",
    "\n",
    "with open('vw_hddt_person_name.csv', 'r') as nodecsv: \n",
    "\n",
    "# Open the Nodes csv file\n",
    "    nodereader = csv.reader(nodecsv) \n",
    "\n",
    "# Read the csv\n",
    "    nodes = [n for n in nodereader][1:]\n",
    "\n",
    "# Retrieve the data (using Python list comprhension and list slicing\n",
    "# to remove the header row\n",
    "\n",
    "    node_names = [n[0] for n in nodes] \n",
    "    \n",
    "# Get a list of only the node names\n",
    "\n",
    "with open('vw_hddt_ceda_tuples.csv', 'r') as edgecsv: \n",
    "    \n",
    "# Open the file\n",
    "\n",
    "    edgereader = csv.reader(edgecsv) \n",
    "# Read the csv\n",
    "\n",
    "    edge_list = list(edgereader) \n",
    "\n",
    "# Convert to list, so can iterate below in for loop\n",
    "    \n",
    "# Create empty arrays to store edge data and edge attribute data\n",
    "\n",
    "edges = []\n",
    "edges_attributes = []\n",
    "    \n",
    "# Fill the arrays with data from CSV\n",
    "\n",
    "for e in edge_list[1:]:\n",
    "    edges.append(tuple(e[0:2])) \n",
    "    \n",
    "# Get the first 2 columns (source, target) and add to array\n",
    "# not used this time. edges_attributes.append(tuple(e[2:4])) \n",
    "# Get the 3rd and 4th columns (first_year, last_year) and add to array\n",
    "    \n",
    "edge_names = [e[0] for e in edges] # Get a list of only the edge names   \n"
   ]
  },
  {
   "cell_type": "markdown",
   "id": "e898697b",
   "metadata": {},
   "source": [
    "# 5.5 Introduction to the exercise - Part One #"
   ]
  },
  {
   "cell_type": "markdown",
   "id": "c3cd310a",
   "metadata": {},
   "source": [
    "Laidlaw in the introduction to PEH sets out the importance of the social networks of Dr Thomas Hodgkin MD, “The roots of this book lie in the personal correspondence of the Quaker, scientist, and activist, Dr Thomas Hodgkin”, and “The exploration of Britain’s imperial history presented in this book is profoundly shaped by Thomas Hodgkin’s personal papers, today housed in the Wellcome library in London, and what they reveal of his philanthropic, medical, and scientific interests and networks. The volume and the breadth of that archive has allowed me to trace and assess a wide array of influences on “imperial humanitarianism” (2021, 3). Laidlaw also says that, Hodgkin’s personal archive at the Wellcome Institute constitutes The “backbone” of the book and that “Its study reveals 50 years’ worth of unlikely connections, sustained relationships, and closely argued, if sometimes contradictory, cases” (2021, 7)."
   ]
  },
  {
   "cell_type": "markdown",
   "id": "f1f0aa1c",
   "metadata": {},
   "source": [
    "Chapter 5 of the thesis argues that by only describing them in narratives it is difficult to 'see' the people who formed the extensive social networks in which Thomas Hodgkin MD operated, how many there were and how they relate to each other. And so, PEH, while discussing at length the efforts of Hodgkin's social networks to relieve the plight of aborigines throughout the British Empire, does not make those networks visible or make them available to scrutiny. This Historical Data Analysis (HDA) fully addresses those two needs and presents new insights about Hodgkin’s networks that are difficult to achieve without an HDDT."
   ]
  },
  {
   "cell_type": "markdown",
   "id": "52496483",
   "metadata": {},
   "source": [
    "# 5.6 The 3094 members of the CEDA before the exercise #"
   ]
  },
  {
   "cell_type": "markdown",
   "id": "80ae8915",
   "metadata": {},
   "source": [
    "Before the Laidlaw exercise is performed, we can see in the Gephi graph the CEDA network using the Force Atlas algorithm. Far left and at the bottom we can see the QCA and those members of the QCA who led in the formation of the APS (which appears in purple). Two members of the QCA who join the APS also join with non QCA members of the APS in joining the ESL in 1843.\n",
    "These two are William Allen (who would die that year) and Thomas Hodgkin MD. In connecting up the QCA, the APS and the ESL these two stand out from the other members of the QCA, (half of whom go on to join the APS) but participate no further in network building. There is no discernible network centered on Hodgkin alone. Thomas Hodgkin's personal network does not appear as a group node. The memberships of the ESL, the Anthropological Society of London (ASL) and Anthropological Institute (AI) are frequently shared. The ESL splits into two groups each of roughly equal size, those who are members of only the ESL and those members of the ESL who also share membership with the AI and ASL. The ASL (formed last in 1863) draws its membership from both the ESL and the AI. It is the ASL that will provide the bulk of the first memberships of the RAI. We can see 'ringed' the small groups of key influencers who network between the CEDA groups."
   ]
  },
  {
   "cell_type": "markdown",
   "id": "09bfc2e6",
   "metadata": {},
   "source": [
    "<img src=\"ceda_ringed.png\">"
   ]
  },
  {
   "cell_type": "markdown",
   "id": "f0cba5bd",
   "metadata": {},
   "source": [
    "| Society | abv. | Dates | Colour |\n",
    "| --- | --- | --- | --- |\n",
    "| Quaker Committee on the Aborigines* | QCA | 1832/37 - 1846 | Dark green |\n",
    "| Aborigines Protection Society | APS | 1837 - 1919 | Purple |\n",
    "| Ethnological Society of London | ESL | 1843 - 1871 | Blue |\n",
    "| Anthropological Institute | AI | 1843 - 1871 | Orange | \n",
    "| Anthropological Society of London | ASL | 1863 - 1871 | Green |"
   ]
  },
  {
   "cell_type": "markdown",
   "id": "d6807d2e",
   "metadata": {},
   "source": [
    "# 5.7 Mods to db to facilitate this exercise - ZOE and WEL #"
   ]
  },
  {
   "cell_type": "markdown",
   "id": "ea1b96f8",
   "metadata": {},
   "source": [
    "## (1) Persons in the index to PEH, and the members of the CEDA ##"
   ]
  },
  {
   "cell_type": "markdown",
   "id": "4571bad8",
   "metadata": {},
   "source": [
    "\n",
    "All the person names were extracted from the PEH index (Laidlaw 2021, 359). Of the 290 person names in the index 108 were found to be already present in the HTTD CEDA dataset. The remaining 182 do not appear in the HDDT CEDA dataset, some of those indexed in PEH will not be members of Hodgkin’s support network, but rather persons that Laidlaw has referenced in PEH for other reasons (for example King William IV, Queen Victoria, and many colonial officers of the Crown).\n",
    "\n",
    "| all persons PEH | PEH persons CEDA | PEH persons not CEDA |\n",
    "|---|---|---|\n",
    "| 290 | 108 | 182 |"
   ]
  },
  {
   "cell_type": "markdown",
   "id": "e8d4cd7f",
   "metadata": {},
   "source": [
    "Note: At least 15 persons amongst the 182 non CEDA persons appearing in the index to PEH could be family members of persons already captured in the HDDT - from the awareness of the author of this thesis. Nonetheless the intention here is to discover how the 108 who are recorded in the HDDT database relate both to each other and the wider group of 3000 already in the HDDT, and to disregard the 182 who are not."
   ]
  },
  {
   "cell_type": "markdown",
   "id": "5526d710",
   "metadata": {},
   "source": [
    "## (2) Persons in the indexes to WEL, and the members of the CEDA ##"
   ]
  },
  {
   "cell_type": "markdown",
   "id": "dd84c2f6",
   "metadata": {},
   "source": [
    "Because PEH relies heavily on the Hodgkin Family Archive at the Wellcome Institute an analysis of the two indexes to that collection was performed to extract from the index of letters sent and the index of letters received by Thomas Hodgkin MD those persons who appeared in both indexes indicating the these persons might have been members of Hodgkin’s network.\n",
    "\n",
    "In the Wellcome Hodgkin Family archive data indexes there are 107 person Hodgkin writes to and who also write to him, and of these 46 appear in the HDDT database and 61 do not. As in the PEH index exercise above we can reasonably assume both that some of these persons not already in the HDDT may be related to members of persons appearing in the HDDT database; and also, that many will not, for example we can expect to find many medical related correspondences in an archive collected by a medical history archive, and these are outside the scope of this thesis (which analyses political activism).\n",
    "\n",
    "| all persons WEL | WEL persons CEDA | WEL persons not CEDA |\n",
    "|---|---|---|\n",
    "|107|46|61|"
   ]
  },
  {
   "cell_type": "markdown",
   "id": "d7366e18",
   "metadata": {},
   "source": [
    "## (3) Summary of db mods #"
   ]
  },
  {
   "cell_type": "markdown",
   "id": "3ba5409c",
   "metadata": {},
   "source": [
    "Using the platform DBeaver (https://dbeaver.io/) the HDDT CEDA database was modified to accommodate the exercise:\n",
    "1. We added to person_data_source table two new temporary data sources – ZOE and WEL\n",
    "2. We added to ceda table two new CEDA groups – ZOE and WEL\n",
    "3. Person_table. We uploaded 182 new records from a csv file of Laidlaw references, and allocated them to data_source = ZOE.\n",
    "4. Person_table. We uploaded 61 new records from a csv file of Laidlaw references, and allocated them to data_source = WEL.\n",
    "5. We updated m2m_person_ceda table to allocate 108 persons to a new CEDA group = ZOE\n",
    "6. We updated m2m_person_ceda table to allocate 46 persons to a new CEDA group = WEL\n",
    "\n",
    "Once the data from both ZOE and WEL had been added to the HDDT database the network analysis could be performed and a report in the form of a Jupyter Notebook made."
   ]
  },
  {
   "cell_type": "markdown",
   "id": "166aac65",
   "metadata": {},
   "source": [
    "# 5.8 Assess persons in the index to PEH who are members of the CEDA. ##\n",
    "\n",
    "The Index to PEH lists 108 persons who already present in the HDDT CEDA db. They were\n",
    "laidlaw allocated to a ‘dummy’ CEDA group (table CEDA, Target = ‘ZOE’). This enables the visualisation of Laidlaw’s Hodgkin network and shows its relationships to the original HDDT CEDA groups.\n",
    "\n",
    "The indexes to WEL list 46 persons who are already present in the HDDT CEDA db. They were allocated to a ‘dummy’ CEDA group (table CEDA, Target = ‘WEL’). This enables the visualisation of The Wellcome Inst., Hodgkin Family Archive Thomas Hodgkin MD network and shows its relationships to the original HDDT CEDA groups.\n",
    "\n",
    "The 3337 persons in the CEDA db., make up 3892 memberships of the original CEDA (QCA, APS, ESL, AI, and the APS) The above 'new' CEDA were set up in the SQL db., to facilitate this exercise.\n",
    "\n",
    "| Original CEDA | ZOE | WEL | Total new |\n",
    "|---|---|---|---|\n",
    "|3892|108|46|4046|"
   ]
  },
  {
   "cell_type": "markdown",
   "id": "b3d829ba",
   "metadata": {},
   "source": [
    "# 5.9 CEDA members compared to non-CEDA others in PEH index #"
   ]
  },
  {
   "cell_type": "code",
   "execution_count": 3,
   "id": "d6b19f05",
   "metadata": {
    "scrolled": false
   },
   "outputs": [
    {
     "data": {
      "application/pdf": "[encoded data removed]",
      "image/png": "[encoded data removed]",
      "text/plain": [
       "<Figure size 1440x720 with 1 Axes>"
      ]
     },
     "metadata": {},
     "output_type": "display_data"
    }
   ],
   "source": [
    "person_names.groupby('data_source_id')['Name'].nunique().plot(kind='pie')\n",
    "plt.title (\"Persons_by_data_source\")\n",
    "plt.xlabel (\"data_source_id\")\n",
    "plt.ylabel (\"Number of persons\")\n",
    "plt.show()\n",
    "\n"
   ]
  },
  {
   "cell_type": "markdown",
   "id": "6994cf71",
   "metadata": {},
   "source": [
    "\n",
    "| data_source_id | Source |\n",
    "| --- | --- |\n",
    "| 1 | RAI |\n",
    "| 2 | QCA |\n",
    "| 3 | APS |\n",
    "| 4 | WEL |\n",
    "| 5 | ZOE |\n",
    "\n",
    "\n",
    "The persons from PEH Index and the Welcome Inst., indexes who are not members of a CEDA appear here. They are disregarded in this exercise because they do not indicate the presence of a social network. They are shown here only for completeness."
   ]
  },
  {
   "cell_type": "markdown",
   "id": "cc559a13",
   "metadata": {},
   "source": [
    "### Add 182 'ZOE' and 61 'WEL' Non CEDA persons to the SQL db., 'temporarily' solely to visualise the extent of persons not included in this exercise. ###"
   ]
  },
  {
   "cell_type": "markdown",
   "id": "0072be0b",
   "metadata": {},
   "source": [
    "# 5.10 Data verification #"
   ]
  },
  {
   "cell_type": "markdown",
   "id": "fca64b2c",
   "metadata": {},
   "source": [
    "In each of Code cells 4 - 11 We call up the tables we have obtained from the db to view the data. We can confirm (e.g., Code cell 4) that we have selected the correct table or view from the db., and we check that the first 5 and last 5 records have been rendered correctly. We can confirm (e.g. Code cell 5) that the respective table dataframe is formatted as expected. We also check that the number of records equals the number of rows on the data source csv."
   ]
  },
  {
   "cell_type": "markdown",
   "id": "82403590",
   "metadata": {},
   "source": [
    "### Code cell 4 ###"
   ]
  },
  {
   "cell_type": "code",
   "execution_count": 4,
   "id": "9dc69298",
   "metadata": {},
   "outputs": [
    {
     "data": {
      "text/html": [
       "<div>\n",
       "<style scoped>\n",
       "    .dataframe tbody tr th:only-of-type {\n",
       "        vertical-align: middle;\n",
       "    }\n",
       "\n",
       "    .dataframe tbody tr th {\n",
       "        vertical-align: top;\n",
       "    }\n",
       "\n",
       "    .dataframe thead th {\n",
       "        text-align: right;\n",
       "    }\n",
       "</style>\n",
       "<table border=\"1\" class=\"dataframe\">\n",
       "  <thead>\n",
       "    <tr style=\"text-align: right;\">\n",
       "      <th></th>\n",
       "      <th>Name</th>\n",
       "      <th>title</th>\n",
       "      <th>gender_id</th>\n",
       "      <th>birth_year</th>\n",
       "      <th>death_year</th>\n",
       "      <th>data_source_id</th>\n",
       "    </tr>\n",
       "  </thead>\n",
       "  <tbody>\n",
       "    <tr>\n",
       "      <th>0</th>\n",
       "      <td>Arthur William A Beckett</td>\n",
       "      <td>NaN</td>\n",
       "      <td>1.0</td>\n",
       "      <td>1844.0</td>\n",
       "      <td>1909.0</td>\n",
       "      <td>1</td>\n",
       "    </tr>\n",
       "    <tr>\n",
       "      <th>1</th>\n",
       "      <td>Andrew Mercer Adam</td>\n",
       "      <td>NaN</td>\n",
       "      <td>1.0</td>\n",
       "      <td>NaN</td>\n",
       "      <td>NaN</td>\n",
       "      <td>1</td>\n",
       "    </tr>\n",
       "    <tr>\n",
       "      <th>2</th>\n",
       "      <td>H R Adam</td>\n",
       "      <td>NaN</td>\n",
       "      <td>1.0</td>\n",
       "      <td>NaN</td>\n",
       "      <td>NaN</td>\n",
       "      <td>1</td>\n",
       "    </tr>\n",
       "    <tr>\n",
       "      <th>3</th>\n",
       "      <td>William Adam</td>\n",
       "      <td>NaN</td>\n",
       "      <td>1.0</td>\n",
       "      <td>NaN</td>\n",
       "      <td>NaN</td>\n",
       "      <td>1</td>\n",
       "    </tr>\n",
       "    <tr>\n",
       "      <th>4</th>\n",
       "      <td>Henry John Adams</td>\n",
       "      <td>NaN</td>\n",
       "      <td>1.0</td>\n",
       "      <td>NaN</td>\n",
       "      <td>NaN</td>\n",
       "      <td>1</td>\n",
       "    </tr>\n",
       "    <tr>\n",
       "      <th>...</th>\n",
       "      <td>...</td>\n",
       "      <td>...</td>\n",
       "      <td>...</td>\n",
       "      <td>...</td>\n",
       "      <td>...</td>\n",
       "      <td>...</td>\n",
       "    </tr>\n",
       "    <tr>\n",
       "      <th>3332</th>\n",
       "      <td>James Wetherall</td>\n",
       "      <td>NaN</td>\n",
       "      <td>NaN</td>\n",
       "      <td>NaN</td>\n",
       "      <td>NaN</td>\n",
       "      <td>5</td>\n",
       "    </tr>\n",
       "    <tr>\n",
       "      <th>3333</th>\n",
       "      <td>William Wilberforce</td>\n",
       "      <td>NaN</td>\n",
       "      <td>NaN</td>\n",
       "      <td>NaN</td>\n",
       "      <td>NaN</td>\n",
       "      <td>5</td>\n",
       "    </tr>\n",
       "    <tr>\n",
       "      <th>3334</th>\n",
       "      <td>King William IV</td>\n",
       "      <td>NaN</td>\n",
       "      <td>NaN</td>\n",
       "      <td>NaN</td>\n",
       "      <td>NaN</td>\n",
       "      <td>5</td>\n",
       "    </tr>\n",
       "    <tr>\n",
       "      <th>3335</th>\n",
       "      <td>x Wiremu Kingi Te rangitake</td>\n",
       "      <td>NaN</td>\n",
       "      <td>NaN</td>\n",
       "      <td>NaN</td>\n",
       "      <td>NaN</td>\n",
       "      <td>5</td>\n",
       "    </tr>\n",
       "    <tr>\n",
       "      <th>3336</th>\n",
       "      <td>Johann Wohlers</td>\n",
       "      <td>NaN</td>\n",
       "      <td>NaN</td>\n",
       "      <td>NaN</td>\n",
       "      <td>NaN</td>\n",
       "      <td>5</td>\n",
       "    </tr>\n",
       "  </tbody>\n",
       "</table>\n",
       "<p>3337 rows × 6 columns</p>\n",
       "</div>"
      ],
      "text/plain": [
       "                             Name title  gender_id  birth_year  death_year  \\\n",
       "0        Arthur William A Beckett   NaN        1.0      1844.0      1909.0   \n",
       "1              Andrew Mercer Adam   NaN        1.0         NaN         NaN   \n",
       "2                        H R Adam   NaN        1.0         NaN         NaN   \n",
       "3                    William Adam   NaN        1.0         NaN         NaN   \n",
       "4                Henry John Adams   NaN        1.0         NaN         NaN   \n",
       "...                           ...   ...        ...         ...         ...   \n",
       "3332              James Wetherall   NaN        NaN         NaN         NaN   \n",
       "3333          William Wilberforce   NaN        NaN         NaN         NaN   \n",
       "3334              King William IV   NaN        NaN         NaN         NaN   \n",
       "3335  x Wiremu Kingi Te rangitake   NaN        NaN         NaN         NaN   \n",
       "3336               Johann Wohlers   NaN        NaN         NaN         NaN   \n",
       "\n",
       "      data_source_id  \n",
       "0                  1  \n",
       "1                  1  \n",
       "2                  1  \n",
       "3                  1  \n",
       "4                  1  \n",
       "...              ...  \n",
       "3332               5  \n",
       "3333               5  \n",
       "3334               5  \n",
       "3335               5  \n",
       "3336               5  \n",
       "\n",
       "[3337 rows x 6 columns]"
      ]
     },
     "execution_count": 4,
     "metadata": {},
     "output_type": "execute_result"
    }
   ],
   "source": [
    "person_names"
   ]
  },
  {
   "cell_type": "markdown",
   "id": "b73e6655",
   "metadata": {},
   "source": [
    "### Code cell 5 ###"
   ]
  },
  {
   "cell_type": "code",
   "execution_count": 5,
   "id": "9d92afb9",
   "metadata": {},
   "outputs": [
    {
     "name": "stdout",
     "output_type": "stream",
     "text": [
      "<class 'pandas.core.frame.DataFrame'>\n",
      "RangeIndex: 3337 entries, 0 to 3336\n",
      "Data columns (total 6 columns):\n",
      " #   Column          Non-Null Count  Dtype  \n",
      "---  ------          --------------  -----  \n",
      " 0   Name            3337 non-null   object \n",
      " 1   title           776 non-null    object \n",
      " 2   gender_id       1988 non-null   float64\n",
      " 3   birth_year      1003 non-null   float64\n",
      " 4   death_year      1069 non-null   float64\n",
      " 5   data_source_id  3337 non-null   int64  \n",
      "dtypes: float64(3), int64(1), object(2)\n",
      "memory usage: 156.5+ KB\n"
     ]
    }
   ],
   "source": [
    "person_names.info()"
   ]
  },
  {
   "cell_type": "markdown",
   "id": "3a264d9f",
   "metadata": {},
   "source": [
    "### Code cell 6 ###"
   ]
  },
  {
   "cell_type": "code",
   "execution_count": 6,
   "id": "1da6068e",
   "metadata": {},
   "outputs": [
    {
     "data": {
      "text/html": [
       "<div>\n",
       "<style scoped>\n",
       "    .dataframe tbody tr th:only-of-type {\n",
       "        vertical-align: middle;\n",
       "    }\n",
       "\n",
       "    .dataframe tbody tr th {\n",
       "        vertical-align: top;\n",
       "    }\n",
       "\n",
       "    .dataframe thead th {\n",
       "        text-align: right;\n",
       "    }\n",
       "</style>\n",
       "<table border=\"1\" class=\"dataframe\">\n",
       "  <thead>\n",
       "    <tr style=\"text-align: right;\">\n",
       "      <th></th>\n",
       "      <th>Name</th>\n",
       "      <th>data_source</th>\n",
       "    </tr>\n",
       "  </thead>\n",
       "  <tbody>\n",
       "    <tr>\n",
       "      <th>0</th>\n",
       "      <td>Arthur William A Beckett</td>\n",
       "      <td>RAI</td>\n",
       "    </tr>\n",
       "    <tr>\n",
       "      <th>1</th>\n",
       "      <td>Andrew Mercer Adam</td>\n",
       "      <td>RAI</td>\n",
       "    </tr>\n",
       "    <tr>\n",
       "      <th>2</th>\n",
       "      <td>H R Adam</td>\n",
       "      <td>RAI</td>\n",
       "    </tr>\n",
       "    <tr>\n",
       "      <th>3</th>\n",
       "      <td>William Adam</td>\n",
       "      <td>RAI</td>\n",
       "    </tr>\n",
       "    <tr>\n",
       "      <th>4</th>\n",
       "      <td>Henry John Adams</td>\n",
       "      <td>RAI</td>\n",
       "    </tr>\n",
       "    <tr>\n",
       "      <th>...</th>\n",
       "      <td>...</td>\n",
       "      <td>...</td>\n",
       "    </tr>\n",
       "    <tr>\n",
       "      <th>3332</th>\n",
       "      <td>James Wetherall</td>\n",
       "      <td>ZOE</td>\n",
       "    </tr>\n",
       "    <tr>\n",
       "      <th>3333</th>\n",
       "      <td>William Wilberforce</td>\n",
       "      <td>ZOE</td>\n",
       "    </tr>\n",
       "    <tr>\n",
       "      <th>3334</th>\n",
       "      <td>King William IV</td>\n",
       "      <td>ZOE</td>\n",
       "    </tr>\n",
       "    <tr>\n",
       "      <th>3335</th>\n",
       "      <td>x Wiremu Kingi Te rangitake</td>\n",
       "      <td>ZOE</td>\n",
       "    </tr>\n",
       "    <tr>\n",
       "      <th>3336</th>\n",
       "      <td>Johann Wohlers</td>\n",
       "      <td>ZOE</td>\n",
       "    </tr>\n",
       "  </tbody>\n",
       "</table>\n",
       "<p>3337 rows × 2 columns</p>\n",
       "</div>"
      ],
      "text/plain": [
       "                             Name data_source\n",
       "0        Arthur William A Beckett         RAI\n",
       "1              Andrew Mercer Adam         RAI\n",
       "2                        H R Adam         RAI\n",
       "3                    William Adam         RAI\n",
       "4                Henry John Adams         RAI\n",
       "...                           ...         ...\n",
       "3332              James Wetherall         ZOE\n",
       "3333          William Wilberforce         ZOE\n",
       "3334              King William IV         ZOE\n",
       "3335  x Wiremu Kingi Te rangitake         ZOE\n",
       "3336               Johann Wohlers         ZOE\n",
       "\n",
       "[3337 rows x 2 columns]"
      ]
     },
     "execution_count": 6,
     "metadata": {},
     "output_type": "execute_result"
    }
   ],
   "source": [
    "person_data_source"
   ]
  },
  {
   "cell_type": "markdown",
   "id": "e854b7e3",
   "metadata": {},
   "source": [
    "### Code cell 7 ###"
   ]
  },
  {
   "cell_type": "code",
   "execution_count": 7,
   "id": "409496ca",
   "metadata": {},
   "outputs": [
    {
     "name": "stdout",
     "output_type": "stream",
     "text": [
      "<class 'pandas.core.frame.DataFrame'>\n",
      "RangeIndex: 3337 entries, 0 to 3336\n",
      "Data columns (total 2 columns):\n",
      " #   Column       Non-Null Count  Dtype \n",
      "---  ------       --------------  ----- \n",
      " 0   Name         3337 non-null   object\n",
      " 1   data_source  3337 non-null   object\n",
      "dtypes: object(2)\n",
      "memory usage: 52.3+ KB\n"
     ]
    }
   ],
   "source": [
    "person_data_source.info()"
   ]
  },
  {
   "cell_type": "markdown",
   "id": "4b7b5fff",
   "metadata": {},
   "source": [
    "### Code cell 8 ###"
   ]
  },
  {
   "cell_type": "code",
   "execution_count": 8,
   "id": "665a42b0",
   "metadata": {},
   "outputs": [
    {
     "data": {
      "text/html": [
       "<div>\n",
       "<style scoped>\n",
       "    .dataframe tbody tr th:only-of-type {\n",
       "        vertical-align: middle;\n",
       "    }\n",
       "\n",
       "    .dataframe tbody tr th {\n",
       "        vertical-align: top;\n",
       "    }\n",
       "\n",
       "    .dataframe thead th {\n",
       "        text-align: right;\n",
       "    }\n",
       "</style>\n",
       "<table border=\"1\" class=\"dataframe\">\n",
       "  <thead>\n",
       "    <tr style=\"text-align: right;\">\n",
       "      <th></th>\n",
       "      <th>Name</th>\n",
       "    </tr>\n",
       "  </thead>\n",
       "  <tbody>\n",
       "    <tr>\n",
       "      <th>0</th>\n",
       "      <td>Arthur William A Beckett</td>\n",
       "    </tr>\n",
       "    <tr>\n",
       "      <th>1</th>\n",
       "      <td>Andrew Mercer Adam</td>\n",
       "    </tr>\n",
       "    <tr>\n",
       "      <th>2</th>\n",
       "      <td>H R Adam</td>\n",
       "    </tr>\n",
       "    <tr>\n",
       "      <th>3</th>\n",
       "      <td>William Adam</td>\n",
       "    </tr>\n",
       "    <tr>\n",
       "      <th>4</th>\n",
       "      <td>Henry John Adams</td>\n",
       "    </tr>\n",
       "    <tr>\n",
       "      <th>...</th>\n",
       "      <td>...</td>\n",
       "    </tr>\n",
       "    <tr>\n",
       "      <th>3332</th>\n",
       "      <td>James Wetherall</td>\n",
       "    </tr>\n",
       "    <tr>\n",
       "      <th>3333</th>\n",
       "      <td>William Wilberforce</td>\n",
       "    </tr>\n",
       "    <tr>\n",
       "      <th>3334</th>\n",
       "      <td>King William IV</td>\n",
       "    </tr>\n",
       "    <tr>\n",
       "      <th>3335</th>\n",
       "      <td>x Wiremu Kingi Te rangitake</td>\n",
       "    </tr>\n",
       "    <tr>\n",
       "      <th>3336</th>\n",
       "      <td>Johann Wohlers</td>\n",
       "    </tr>\n",
       "  </tbody>\n",
       "</table>\n",
       "<p>3337 rows × 1 columns</p>\n",
       "</div>"
      ],
      "text/plain": [
       "                             Name\n",
       "0        Arthur William A Beckett\n",
       "1              Andrew Mercer Adam\n",
       "2                        H R Adam\n",
       "3                    William Adam\n",
       "4                Henry John Adams\n",
       "...                           ...\n",
       "3332              James Wetherall\n",
       "3333          William Wilberforce\n",
       "3334              King William IV\n",
       "3335  x Wiremu Kingi Te rangitake\n",
       "3336               Johann Wohlers\n",
       "\n",
       "[3337 rows x 1 columns]"
      ]
     },
     "execution_count": 8,
     "metadata": {},
     "output_type": "execute_result"
    }
   ],
   "source": [
    "names"
   ]
  },
  {
   "cell_type": "markdown",
   "id": "05ad9287",
   "metadata": {},
   "source": [
    "### Code cell 9 ###"
   ]
  },
  {
   "cell_type": "code",
   "execution_count": 9,
   "id": "f964ed46",
   "metadata": {},
   "outputs": [
    {
     "name": "stdout",
     "output_type": "stream",
     "text": [
      "<class 'pandas.core.frame.DataFrame'>\n",
      "RangeIndex: 3337 entries, 0 to 3336\n",
      "Data columns (total 1 columns):\n",
      " #   Column  Non-Null Count  Dtype \n",
      "---  ------  --------------  ----- \n",
      " 0   Name    3337 non-null   object\n",
      "dtypes: object(1)\n",
      "memory usage: 26.2+ KB\n"
     ]
    }
   ],
   "source": [
    "names.info()"
   ]
  },
  {
   "cell_type": "markdown",
   "id": "0b55a675",
   "metadata": {},
   "source": [
    "### Code cell 10 ###"
   ]
  },
  {
   "cell_type": "code",
   "execution_count": 10,
   "id": "a576f370",
   "metadata": {},
   "outputs": [
    {
     "data": {
      "text/html": [
       "<div>\n",
       "<style scoped>\n",
       "    .dataframe tbody tr th:only-of-type {\n",
       "        vertical-align: middle;\n",
       "    }\n",
       "\n",
       "    .dataframe tbody tr th {\n",
       "        vertical-align: top;\n",
       "    }\n",
       "\n",
       "    .dataframe thead th {\n",
       "        text-align: right;\n",
       "    }\n",
       "</style>\n",
       "<table border=\"1\" class=\"dataframe\">\n",
       "  <thead>\n",
       "    <tr style=\"text-align: right;\">\n",
       "      <th></th>\n",
       "      <th>Source</th>\n",
       "      <th>Target</th>\n",
       "    </tr>\n",
       "  </thead>\n",
       "  <tbody>\n",
       "    <tr>\n",
       "      <th>0</th>\n",
       "      <td>William Adam</td>\n",
       "      <td>ESL</td>\n",
       "    </tr>\n",
       "    <tr>\n",
       "      <th>1</th>\n",
       "      <td>William (1) Adams</td>\n",
       "      <td>ESL</td>\n",
       "    </tr>\n",
       "    <tr>\n",
       "      <th>2</th>\n",
       "      <td>William (2) Adams</td>\n",
       "      <td>ESL</td>\n",
       "    </tr>\n",
       "    <tr>\n",
       "      <th>3</th>\n",
       "      <td>Louis Agassiz</td>\n",
       "      <td>ESL</td>\n",
       "    </tr>\n",
       "    <tr>\n",
       "      <th>4</th>\n",
       "      <td>Augustine Aglio</td>\n",
       "      <td>ESL</td>\n",
       "    </tr>\n",
       "    <tr>\n",
       "      <th>...</th>\n",
       "      <td>...</td>\n",
       "      <td>...</td>\n",
       "    </tr>\n",
       "    <tr>\n",
       "      <th>4041</th>\n",
       "      <td>Frederick Cooper</td>\n",
       "      <td>WEL</td>\n",
       "    </tr>\n",
       "    <tr>\n",
       "      <th>4042</th>\n",
       "      <td>Henry Christy</td>\n",
       "      <td>WEL</td>\n",
       "    </tr>\n",
       "    <tr>\n",
       "      <th>4043</th>\n",
       "      <td>James (1) Backhouse</td>\n",
       "      <td>WEL</td>\n",
       "    </tr>\n",
       "    <tr>\n",
       "      <th>4044</th>\n",
       "      <td>William (Capt.) Allen</td>\n",
       "      <td>WEL</td>\n",
       "    </tr>\n",
       "    <tr>\n",
       "      <th>4045</th>\n",
       "      <td>William (1) Adams</td>\n",
       "      <td>WEL</td>\n",
       "    </tr>\n",
       "  </tbody>\n",
       "</table>\n",
       "<p>4046 rows × 2 columns</p>\n",
       "</div>"
      ],
      "text/plain": [
       "                     Source Target\n",
       "0              William Adam    ESL\n",
       "1         William (1) Adams    ESL\n",
       "2         William (2) Adams    ESL\n",
       "3             Louis Agassiz    ESL\n",
       "4           Augustine Aglio    ESL\n",
       "...                     ...    ...\n",
       "4041       Frederick Cooper    WEL\n",
       "4042          Henry Christy    WEL\n",
       "4043    James (1) Backhouse    WEL\n",
       "4044  William (Capt.) Allen    WEL\n",
       "4045      William (1) Adams    WEL\n",
       "\n",
       "[4046 rows x 2 columns]"
      ]
     },
     "execution_count": 10,
     "metadata": {},
     "output_type": "execute_result"
    }
   ],
   "source": [
    "tuples"
   ]
  },
  {
   "cell_type": "markdown",
   "id": "5bb9fbdf",
   "metadata": {},
   "source": [
    "### Code cell 11 ###"
   ]
  },
  {
   "cell_type": "code",
   "execution_count": 11,
   "id": "17d593b7",
   "metadata": {},
   "outputs": [
    {
     "name": "stdout",
     "output_type": "stream",
     "text": [
      "<class 'pandas.core.frame.DataFrame'>\n",
      "RangeIndex: 4046 entries, 0 to 4045\n",
      "Data columns (total 2 columns):\n",
      " #   Column  Non-Null Count  Dtype \n",
      "---  ------  --------------  ----- \n",
      " 0   Source  4046 non-null   object\n",
      " 1   Target  4046 non-null   object\n",
      "dtypes: object(2)\n",
      "memory usage: 63.3+ KB\n"
     ]
    }
   ],
   "source": [
    "tuples.info()"
   ]
  },
  {
   "cell_type": "markdown",
   "id": "8e6efe26",
   "metadata": {},
   "source": [
    "# 5.11 Generate gexf file for Gephi visualisation #"
   ]
  },
  {
   "cell_type": "markdown",
   "id": "7e51bd58",
   "metadata": {},
   "source": [
    "### Code cell 12 - 13 Check that Gephi 'Nodes' and 'Edges' files agree with 'names' and 'tuples' files ###"
   ]
  },
  {
   "cell_type": "markdown",
   "id": "5d3e6e23",
   "metadata": {},
   "source": [
    "### Code cell 12 ###"
   ]
  },
  {
   "cell_type": "code",
   "execution_count": 12,
   "id": "ed1d6d10",
   "metadata": {},
   "outputs": [
    {
     "name": "stdout",
     "output_type": "stream",
     "text": [
      "Nodes length:  3337\n",
      "Edges length:  4046\n"
     ]
    }
   ],
   "source": [
    "print(\"Nodes length: \", len(node_names))\n",
    "print(\"Edges length: \", len(edges))"
   ]
  },
  {
   "cell_type": "markdown",
   "id": "c30127c4",
   "metadata": {},
   "source": [
    "### Code cell 13 ###"
   ]
  },
  {
   "cell_type": "code",
   "execution_count": 13,
   "id": "ea9df95e",
   "metadata": {},
   "outputs": [
    {
     "name": "stdout",
     "output_type": "stream",
     "text": [
      "First 5 nodes: ['Arthur William A Beckett', 'Andrew Mercer Adam', 'H R Adam', 'William Adam', 'Henry John Adams']\n",
      "First 5 edges: [('William Adam', 'ESL'), ('William (1) Adams', 'ESL'), ('William (2) Adams', 'ESL'), ('Louis Agassiz', 'ESL'), ('Augustine Aglio', 'ESL')]\n"
     ]
    }
   ],
   "source": [
    "print(\"First 5 nodes:\", node_names[0:5])\n",
    "print(\"First 5 edges:\", edges[0:5])"
   ]
  },
  {
   "cell_type": "markdown",
   "id": "8c1bd2d2",
   "metadata": {},
   "source": [
    "### Code cell 14 Execute NetworkX function ###"
   ]
  },
  {
   "cell_type": "code",
   "execution_count": 14,
   "id": "5338ed2f",
   "metadata": {},
   "outputs": [
    {
     "name": "stdout",
     "output_type": "stream",
     "text": [
      "Name: \n",
      "Type: Graph\n",
      "Number of nodes: 3344\n",
      "Number of edges: 4046\n",
      "Average degree:   2.4199\n"
     ]
    }
   ],
   "source": [
    "# We use NetworkX to build the graph data into a table\n",
    "\n",
    "G = nx.Graph()\n",
    "G.add_nodes_from(node_names)\n",
    "G.add_edges_from(edges)\n",
    "print(nx.info(G))"
   ]
  },
  {
   "cell_type": "markdown",
   "id": "1692d8d8",
   "metadata": {},
   "source": [
    "The number of nodes here is 3337 persons plus 7 societies = 3344 (the additional 7 nodes are the CEDA names (CQA, APS, ESL, AI, ASL, ZOE and WEL). Gephi will produce a 'bigraph' of the selected data and a bigraph is a graph where relationships are between individual persons (one node) and membership organisations, many nodes)."
   ]
  },
  {
   "cell_type": "markdown",
   "id": "ed4bed88",
   "metadata": {},
   "source": [
    "### Code cell 15 Write the gexf file ### "
   ]
  },
  {
   "cell_type": "code",
   "execution_count": 15,
   "id": "1f33dbf3",
   "metadata": {},
   "outputs": [],
   "source": [
    "# Finally we can write a gexf file which will be placed in the root directory.\n",
    "# We can then open the file in Gephi and visualize the network.\n",
    "\n",
    "nx.write_gexf(G, 'ceda_laidlaw.gexf')"
   ]
  },
  {
   "cell_type": "markdown",
   "id": "4a0b7b23",
   "metadata": {},
   "source": [
    "# 5.12 Visual analysis of the exercise #"
   ]
  },
  {
   "cell_type": "markdown",
   "id": "82712a7c",
   "metadata": {},
   "source": [
    "We then open the gexf file in Gephi and generate a graph file using the Force Atlas algorithm, the 'network diameter', 'modularity' routines and the 'appearance' routines to produce a suitable graph for analysis. (Running these routines in Gephi allows graph display and placement, colour and size of nodes, modularity to identify clearly the large society groups and betweenness centrality to reveal individuals and the smaller groups who play important roles linking groups together. It should be noted that the visualisation and all of its topography are the result of running the above algorithms, it is not manually arranged on the page!\n",
    "Finally we save the graph in Gephi as a 'project file' to the JNB container for this exercise, and we also produce PNG files of the graph and selected areas. Finally we can import the png images of the Gephi graph file to this JNB to illustrate the network analysis performed in the Gephi platform."
   ]
  },
  {
   "cell_type": "markdown",
   "id": "e213bdb1",
   "metadata": {},
   "source": [
    "# 5.13 The CEDA social network including ZOE and WEL ###"
   ]
  },
  {
   "cell_type": "markdown",
   "id": "06879080",
   "metadata": {},
   "source": [
    "We have created two 'dummy' groups (ZOE and WEL) to show the persons who are members of the original CEDA and who appear in the index of PEH as Zoe, and those from the Wellcome Inst., as WEL. They appear in this graph in orange. Also in orange is the QCA group. It is helpful to show QCA alongside the two dummy groups because Thomas Hodgkin MD begins his political work in the QCA (as discussed in PEH), and all three groups are arguably Thomas Hodgkin MD groups. ZOE is centre, WEL to the right and QCA to the left. We can see that the dummy groups are centered in the Force Atlas graph and that they connect up all of the main CEDA groups. This is a visible confirmation that the Thomas Hodgkin MD network referenced in PEH is well placed and well connected. The presence of the dummy groups brings Thomas Hodgkin MD to the very centre of the graph, this is impressive given that the entire population is 3337 persons. But it is important to note that Hodgkin does not 'sit' within the community referenced by Laidlaw or that suggested by the WEL analysis, he sits to one side because as much as he is attracted to Laidlaw's and the WEL groups he is 'pulled' away from them because of his connections to the QCA and ESL."
   ]
  },
  {
   "cell_type": "markdown",
   "id": "41f6bce2",
   "metadata": {},
   "source": [
    "<img src=\"laidlaw_ringed.png\">"
   ]
  },
  {
   "cell_type": "markdown",
   "id": "b5c6362c",
   "metadata": {},
   "source": [
    "| Society | abv. | Dates | Colour |\n",
    "| --- | --- | --- | --- |\n",
    "| Quaker Committee on the Aborigines, Protecting the Empire's Humanity and Welcome Inst., | QCA, PEH, WEL | 1832/37 - 1846 | Orange |\n",
    "| Aborigines Protection Society | APS | 1837 - 1919 | Purple |\n",
    "| Ethnological Society of London | ESL | 1843 - 1871 | Blue |\n",
    "| Anthropological Society of London | ASL | 1863 - 1871 | Green |\n",
    "| Anthropological Institute | AI | 1843 - 1871 | grey | \n",
    "\n",
    "Note: Gephi allows detailed examination of this network"
   ]
  },
  {
   "cell_type": "markdown",
   "id": "f36879db",
   "metadata": {},
   "source": [
    "# 5.14 Zooming in to show the network in detail #"
   ]
  },
  {
   "cell_type": "markdown",
   "id": "59b01252",
   "metadata": {},
   "source": [
    "<img src=\"laidlaw_detail_ringed.png\">"
   ]
  },
  {
   "cell_type": "markdown",
   "id": "4d555ca7",
   "metadata": {},
   "source": [
    "# 5.15 Other groupings emerge #"
   ]
  },
  {
   "cell_type": "markdown",
   "id": "7cc976b9",
   "metadata": {},
   "source": [
    "Other smaller groups that liaise between Hodgkin and the CEDA also become visible in the graph, and these are worthy of further study."
   ]
  },
  {
   "cell_type": "markdown",
   "id": "4f71beef",
   "metadata": {},
   "source": [
    "<img src=\"laidlaw_jnb_ringed.png\">"
   ]
  },
  {
   "cell_type": "markdown",
   "id": "13b4c5d9",
   "metadata": {},
   "source": [
    "# 5.16 Quaker roles emerge in detail #"
   ]
  },
  {
   "cell_type": "markdown",
   "id": "b1c8d813",
   "metadata": {},
   "source": [
    "PEH also references 6 (of the 15) Quakers who were members of the QCA - Josiah and William Forster, Robert Howard, Peter Bedford, Joseph Sturge and Robert Alsop (Jun)and they can be seen here networking between the QCA, APS, ZOE and Thomas Hodgkin MD."
   ]
  },
  {
   "cell_type": "markdown",
   "id": "44859b17",
   "metadata": {},
   "source": [
    "<img src=\"Laidlaw_qca_ringed.png\">"
   ]
  },
  {
   "cell_type": "markdown",
   "id": "e9f8c7af",
   "metadata": {},
   "source": [
    "# 5.17 Conclusions #"
   ]
  },
  {
   "cell_type": "markdown",
   "id": "fac9b8d8",
   "metadata": {},
   "source": [
    "This exercise has shown that although Thomas Hodgkin's networks appear only in the index in PEH and in the Wellcome Inst., Hodgkin Archive, in neither of these sources can political activist relationships be easily deduced but, by using data analysis and data visualisation technology thenetworks argued in PEH can be shown and analysed very clearly.\n",
    "\n",
    "The HDDT CEDA db., comprises the 3000 memberships of CEDA societies concerned firstly with the plight of aborigines, but then quickly afterwards with institution building in the science of ethnology and anthropology and within which Thomas Hodgkin was a key influencer. Placing PEH's Hodgkin networks alongside the HDDT networks, a much fuller view of community’s political activism is obtained, where the centrality of Hodgkin's networks to the work of all of the CEDA networks is evident. Clearly, Laidlaw in PEH has in referencing over 100 key networkers, identified those who have close working connections with Hodgkin, and these networks are central to the workings of the greater networks of the CEDA. Other smaller embedded networking groups that liaise between Hodgkin and the CEDA have also been revealed, and these are worthy of further detailed study.\n",
    "\n",
    "Although PEH offers a literary description of the networks of Hodgkin, Hodgkin himself does not get subsumed by the Gephi graph algorithms into ZOE or WEL, instead he stands aside. This is because, as we can see, his relationships with Quakers and the APS are strong enough to resist the attraction of his relationships with ZOE or WEL networks. This finding is important because it gives good reason to examine Hodgkin’s relationships further with both QCA and the APS (and the ESL). Six Quakers who are key networkers between Hodgkin's concern for the plight of aborigines and his institution building in the science of anthropology also can be identified and their presence will help to shape the next exercise.\n",
    "\n",
    "Chapter 6 will thoroughly explore the role of Quakers and chapter 7 the role of Hodgkin's networks supporting institution building in ethnology and anthropology within the APS and the ESL.\n",
    "\n",
    "The exercise confirms and supports the centrality and importance of Hodgkin's networks as set out in the index to PEH and invites further scrutiny of those networks because key individuals and small clusters of persons emerge from the visual analysis.\n"
   ]
  },
  {
   "cell_type": "markdown",
   "id": "39654f03",
   "metadata": {},
   "source": [
    "# 5.18 Modifications to the database for Part Two #"
   ]
  },
  {
   "cell_type": "markdown",
   "id": "4116499e",
   "metadata": {},
   "source": [
    "The 'dummy' groups ZOE and WEL, after being scrutinised using a Gephi graph file, add richness and insight into the workings of the CEDA networks and the role of Thomas Hodgkin within those networks. The role of Quakers within these networks is also indicated. Because the new data in ZOE and WEL does not include visual anomalies or reveal a large number of outlying persons (who would add no value to a study of person-to-person networks) we can be confident in now modifying the CEDA database permanently by merging them both into a new CEDA group called HOD. This part of the exercise will be performed in Chapter 5 Part Two."
   ]
  },
  {
   "cell_type": "markdown",
   "id": "25aaebbc",
   "metadata": {},
   "source": [
    "# 5.19 Github upload #"
   ]
  },
  {
   "cell_type": "markdown",
   "id": "4822264a",
   "metadata": {},
   "source": [
    "We can now update GitHub to pass the exercise and all its resources to the project repo (see step 1) . This enables the entire exercise to be both scrutinised by others and replicated elsewhere.(When the exercise is completed and audited, and all copyright issue resolved the repo can be made public)."
   ]
  },
  {
   "cell_type": "markdown",
   "id": "6bc3e284",
   "metadata": {},
   "source": [
    "## End of laidlaw (part one) ##"
   ]
  }
 ],
 "metadata": {
  "kernelspec": {
   "display_name": "Python 3",
   "language": "python",
   "name": "python3"
  },
  "language_info": {
   "codemirror_mode": {
    "name": "ipython",
    "version": 3
   },
   "file_extension": ".py",
   "mimetype": "text/x-python",
   "name": "python",
   "nbconvert_exporter": "python",
   "pygments_lexer": "ipython3",
   "version": "3.8.8"
  }
 },
 "nbformat": 4,
 "nbformat_minor": 5
}
