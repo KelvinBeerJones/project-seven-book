{
 "cells": [
  {
   "cell_type": "markdown",
   "metadata": {},
   "source": [
    "# P7 Chapter 7 Project Seven presentation #"
   ]
  },
  {
   "cell_type": "markdown",
   "metadata": {},
   "source": [
    "## Thesis Chapter 6.24 ##"
   ]
  },
  {
   "cell_type": "markdown",
   "metadata": {},
   "source": [
    "File name: jnb_hddt_qsra_september_2021"
   ]
  },
  {
   "cell_type": "markdown",
   "metadata": {},
   "source": [
    "# 7.1 An Evidence Based Prosopographical study of 3000 activists 1830-1870 and the 600 Quakers amongst them #\n",
    "\n",
    "## Subject: ##\n",
    "\n",
    "My own research has revealed the extensive social connectivity between the roughly 600 members of a ‘Quaker Led Network (QLN)’ and their involvement within a community of  roughly 3000 persons, spread across four organisations in Britain active between 1830 and 1870, which the QLN network helped to set up and staff. I call these, the ‘Centres for the Emergence of Discipline of Anthropology in Britain’ (CEDA).\n",
    " \n",
    "## Question 1: ##\n",
    "\n",
    "What can be revealed if a historian uses data science to study a large historical community over a long period of time by bringing together and integrating metadata from catalogues, indexes, and genealogical data?\n",
    " \n",
    "## Methodology: ##\n",
    "\n",
    "I have designed, built and I am now using a suite of open-source and reproducible relational database technologies and digital analytic tools to visualise and scrutinise the entire community of some 3000 activists over 40 years (1830-1870), picking out the Quakers amongst them so that the community can be explored at both group and individual level. I am able to model the ‘connected’ relationships between the individual members of the CEDA through time, including kinship, education, occupations, locations and organisations.\n",
    " \n",
    "## Question 2: ##\n",
    "What is the extent of Quaker involvement in the CEDA, over the 40 year time span researched, and was Quaker kinship as socially cohesive as (say) education or occupation amongst the wider community?\n"
   ]
  },
  {
   "cell_type": "markdown",
   "metadata": {},
   "source": [
    "# 7.2 This is a code cell #"
   ]
  },
  {
   "cell_type": "code",
   "execution_count": 1,
   "metadata": {},
   "outputs": [],
   "source": [
    "# First we call up the python packages we need to perform the analysis:\n",
    "\n",
    "import pandas as pd\n",
    "import numpy as np\n",
    "import matplotlib.pyplot as plt\n",
    "plt.rc('figure', figsize=(20, 10))\n",
    "from IPython.display import set_matplotlib_formats\n",
    "set_matplotlib_formats('png', 'pdf')\n",
    "from operator import itemgetter\n",
    "import networkx as nx\n",
    "from networkx.algorithms import community #This part of networkx, for community detection, needs to be imported separately.\n",
    "import nbconvert\n",
    "import csv\n",
    "\n",
    "# <img src=\"xxxx.png\">\n"
   ]
  },
  {
   "cell_type": "markdown",
   "metadata": {},
   "source": [
    "# 7.3 These are the resources in my container for this exercise #\n",
    "\n",
    "### Resource containers are also GitHub repo's facilitating granular version control of all changes made to any resources ###\n",
    "\n",
    "<img src=\"resources.png\">"
   ]
  },
  {
   "cell_type": "markdown",
   "metadata": {},
   "source": [
    "# 7.4 This is the structure of the SQLite database (ERD) #\n",
    "\n",
    "<img src=\"ERD.png\">"
   ]
  },
  {
   "cell_type": "markdown",
   "metadata": {},
   "source": [
    "# 7.5 Relationships (other then CEDA) present in the data"
   ]
  },
  {
   "cell_type": "markdown",
   "metadata": {},
   "source": [
    "<img src=\"bipartite_10.png\">"
   ]
  },
  {
   "cell_type": "markdown",
   "metadata": {},
   "source": [
    "This graph shows all of the popular bigraph data in the database. Including all data would result in a 'hairball' where data would be too dense to be capable of analysis at this (the highest) level. (See Most popular entities section below)"
   ]
  },
  {
   "cell_type": "markdown",
   "metadata": {},
   "source": [
    "# 7.6 All persons are members of at least one CEDA #"
   ]
  },
  {
   "cell_type": "markdown",
   "metadata": {},
   "source": [
    "<img src=\"ceda.png\">\n",
    "\n",
    "\n",
    "| Society | abv. | Dates\n",
    "| --- | --- | --- |\n",
    "| Quaker Committee on the Aborigines* | QCA | 1832/37 - 1846 |\n",
    "| Aborigines Protection Society | APS | 1837 - 1919 |\n",
    "| Ethnological Society of London | ESL | 1843 - 1871 |\n",
    "| Anthropological Society of London | ASL | 1863 - 1871 |\n",
    "| Anthropological Institute | AI | 1843 - 1871 |\n",
    "| London Anthropological Society** | LAS | 1873 - 1874 |\n",
    "\n",
    "* Origin Society included in this project but not recognised by RAI.\n",
    "** not included in this project (beyond 1871 cut off date)."
   ]
  },
  {
   "cell_type": "markdown",
   "metadata": {},
   "source": [
    "# 7.7 Quakers and their relationships #\n",
    "\n",
    "<img src=\"quakers.png\">"
   ]
  },
  {
   "cell_type": "markdown",
   "metadata": {},
   "source": [
    "# 7.8 Working with a variety of datatables #\n",
    "\n",
    "### A 'complete' dataset ### \n",
    "\n",
    "Would be one like this, where all of the data can be contained witin a perfect rectangular block of cells ('containers') and every container contains only one data item and every data item can be located by the coordinates 'Row n, Column n'\n",
    "\n",
    "<img src=\"data 1.png\">\n",
    "\n",
    "### An 'incomplete' dataset ###\n",
    "\n",
    "When historical data is used often some data is missing (permanently lost) and the HDDT is able to accept 'Incomplete' datasets. The HDDT does not lose functionality because of the incomplete nature of much historical data.\n",
    "\n",
    "<img src=\"data 2.png\">\n",
    "\n",
    "### An 'irregular' dataset ###\n",
    "\n",
    "The HDDT has been designed to accept Irregular datasets. The surviving evidence of the past is not only often Incomplete, it is frequently Irregular, where multiple datasets have different dimensions. (Either because the data in itself is intrinsically different or because different data collectors use different cataloguing methods) \n",
    "\n",
    "<img src=\"data 3.png\">\n",
    "\n",
    "For the HDDT a qualifying dataset is a data set of any dimensions, complete, incomplete or irregular. The only requirement is that all datasets must contain a single common containing one universally shared data item. The HDDT requires all data sets to contain datatables that can be referenced to a PERSON (Name) in one of its rows.\n",
    "\n",
    "Conflicts between dataset Person (Name)'s are resolved by adopting in this project by nominating the 'RAI dataset' as the 'Authority Index'. With careful matching of Person (Name)'s found in other datasets, the RAI naming rule applies throughout."
   ]
  },
  {
   "cell_type": "markdown",
   "metadata": {},
   "source": [
    "# 7.9 Introduction to bigraph analysis #"
   ]
  },
  {
   "cell_type": "markdown",
   "metadata": {},
   "source": [
    "### Bigraph data statistics ###\n",
    "\n",
    "\n",
    "| Table | Rows | Columns | Exc?\n",
    "| --- | --- | --- | --- |\n",
    "| ceda | 6 | 1 | Yes |\n",
    "| person_ceda | 3894 | 4 | Yes |\n",
    "| club | 68 |1 | * |\n",
    "| person_club | 323 | 2 | * |\n",
    "| location   | 83 | 1 | \n",
    "| person_location | 2061 | 2 |\n",
    "| occupation | 93 | 1 |\n",
    "| person_occupation | 1883 | 2 |\n",
    "| society | 260 | 1 |\n",
    "| person_society | 1238 | 2|\n",
    "\n",
    "* Due to low levels of poulation of 67 other clubs only the Athenaeum Club is included in analysis "
   ]
  },
  {
   "cell_type": "markdown",
   "metadata": {},
   "source": [
    "# 7.10 Locations #"
   ]
  },
  {
   "cell_type": "markdown",
   "metadata": {},
   "source": [
    "### Top 10 locations pie chart ###\n",
    "\n",
    "<img src=\"location10_pie.png\">"
   ]
  },
  {
   "cell_type": "markdown",
   "metadata": {},
   "source": [
    "### Top 10 locations bigraph ###\n",
    "\n",
    "<img src=\"location10_bigraph.png\">\n"
   ]
  },
  {
   "cell_type": "markdown",
   "metadata": {},
   "source": [
    "We can see that London and 'country'(sic) are the most populated locations. Because the 'country' location is an aggregate (and not a specific location) we can think of London and 'country' as a twin centre. Within the twin centre we can see the members of both London and 'country' locations and that the members of each are highly networked. We can also see that the London location contains many members who have no association with any other group (including 'country'). London 1830 - 1870, was densely populated and so it is possible that members of the London location had other modes of association. Because the 'country' location is an aggregate we cannot make the same analysis to the same extent, it is possible that many members in (say) Newcastle had no association with other members in (say) Bristol. We can see the large group of members who were members of both London and 'country' locations. It is highly likely that these members served as conduits of communication and group cohesion. It is interesting to note that only 3 members of this London and 'country' group were members of groups outside of the twin centre.\n",
    "\n",
    "Eight other location each have a membership of around 30 members (we can call these the satellites), all of the satellite groups relate directly to the twin centre with very few members associated with more that one satellite location.\n",
    "\n",
    "Australia and Ireland have associations with both London and 'country'. The German location is most closely associated with the 'country' group. All of the other locations are strongly associated with the London location. \n",
    "\n",
    "Germany (far right) is the location least associated with London. Alex Nidda Genthe is the only member from Germany who is also a member of the London location. Friedrich Max Muller, Frederick Augustus Haverick and Gustav Oppert each network with 'country' members. William Wilson Hunter is the only 'country' member who also appears in the Germany location. He and Gustav oppert also have a location connection with India. "
   ]
  },
  {
   "cell_type": "markdown",
   "metadata": {},
   "source": [
    "# 7.11 Occupations #"
   ]
  },
  {
   "cell_type": "markdown",
   "metadata": {},
   "source": [
    "### Top 10 occupations pie chart ###\n",
    "\n",
    "<img src=\"occupation10_pie.png\">\n"
   ]
  },
  {
   "cell_type": "markdown",
   "metadata": {},
   "source": [
    "### Top 10 occupations bigraph ###\n",
    "\n",
    "<img src=\"occupation10_bigraph.png\">"
   ]
  },
  {
   "cell_type": "markdown",
   "metadata": {},
   "source": [
    "We can see that 'medical','academic' and 'armed services' together account for half of the members by occupation. We can also see that the largest three occupational categories each contain many members who have no association with any other occupational group. We can see that the medical categories contain many members who are also members of the other two principal categories ('academic' and 'armed services'). It is highly likely that these members served as conduits of communication and group cohesion amongst the three principal occupational cegories. \n",
    "\n",
    "Seven other occupations each have a range of members with literary the lowest and business the highest. All of the satellite groups relate directly to the triple centre with many members also associated with more that one other satellite occupation.\n",
    "\n",
    "It is surprising the the least networked occupation is 'church' and perhaps less so that 'business' and 'legal'are highly networked.\n",
    "\n",
    "Several individuals form a web of interconnectedness between the members occupations. "
   ]
  },
  {
   "cell_type": "markdown",
   "metadata": {},
   "source": [
    "# 7.12 Societies #"
   ]
  },
  {
   "cell_type": "markdown",
   "metadata": {},
   "source": [
    "### Top 10 societies pie chart ###\n",
    "\n",
    "<img src=\"society10_pie.png\">"
   ]
  },
  {
   "cell_type": "markdown",
   "metadata": {},
   "source": [
    "## Top 10 societies bigraph ##\n",
    "\n",
    "<img src=\"society10_bigraph.png\">"
   ]
  },
  {
   "cell_type": "markdown",
   "metadata": {},
   "source": [
    "We can see that 'Geological Society' and the 'Royal Goegraphical Society' together account for a significant number of members by society. The 'Royal College of Surgeons', the 'Medical and Chirurgical Society' and the 'College of Physicians' form the next largest cluster of memberships of societies. These two clusters each contain many members who have no association with any other society. We can see that the medical group and the geographical group have few members in common. The 'Royal Society' and the 'Linnean Society' in the centre have between them the greatest level of networking amongst all of the societies. It is highly likely that these members served as conduits of communication and group cohesion amongst the two principal society groups. \n",
    "\n",
    "Many other societies have a range of members all of whom are highly interconnected. All of the satellite groups relate most closely to the 'Royal Society' and the 'Linnean Society' rather than to the two larger clusters. Many members of the smaller satellite societies are also associated with more that one other satellite occupation.\n",
    "\n",
    "It is surprising the the least networked occupation is the 'Royal College of Surgeons' and perhaps less so that the 'Geological Society' and the 'Royal Geographical Society' are highly networked.\n",
    "\n",
    "Several individuals form a web of interconnectedness between the members of societies. "
   ]
  },
  {
   "cell_type": "markdown",
   "metadata": {},
   "source": [
    "# 7.13 Cubs #\n",
    "\n",
    "<img src=\"club.png\">\n",
    "\n",
    "\n",
    "Clubs will not be analysed in this project but the Athenaeum club can be used as an attribute (because it is a singularity). "
   ]
  },
  {
   "cell_type": "markdown",
   "metadata": {},
   "source": [
    "# 7.14 Most popular bipartite networks combined #\n",
    "\n",
    "1850 members of the community are recorded as members of 35 popular entities (Locations, occupations, societies and the Athenaeum Club). These entities make a sphere of popular interest graph where meetings between members concerning the CEDA may have taken place, equally they may also be places where members might meet up only infrequently or informally. The visual analysis of connectivity between members in single societies and between members of multiple societies indicates the extent that the community is societally connected. The 1850 make up 60% of the entire community. \n",
    "\n",
    "The graph at the head of this notebook shows the 1850 distributed by popular entity membership with the connectivity between them reflected in those members who are associated with more than one entity.  "
   ]
  },
  {
   "cell_type": "markdown",
   "metadata": {},
   "source": [
    "# 7.15 Iterative Section 1 - (This is an iterative workbook) #\n",
    "\n",
    "As can be seen in the illustrative graph above which has been produced in Gephi by the code cells below to provide an initial overview of the data and its distribution, the graph might be made more meaningful if it did not include societies sparsely populated. \n",
    "\n",
    "The code cell below and the code cells in the section Iterative Section 2 (below) have therefore been designed so that a second run through the workbook can be made where the second run uses data that excludes low populated occupations identified in the first run through."
   ]
  },
  {
   "cell_type": "code",
   "execution_count": 2,
   "metadata": {},
   "outputs": [],
   "source": [
    "# Second we call up the csv files generated from the SQL database that contain information about \n",
    "# locations and the community members associated with locations. As well as enabling the locations to be listed \n",
    "# we produce a 'node_names' file and a tuples file of edges_attributes to generate the files need to \n",
    "# produce GefX files for Gephi.\n",
    "\n",
    "# We can run the code cell twice, first with all data and once all data has been examined\n",
    "# and a decision made to exclude 'noise' the code block can be run again with newly generated \n",
    "# csv files that exclude low populated locations.\n",
    "\n",
    "#bipartite_10 = pd.read_csv ('vw_bipartite_10_names2_202108041622.csv')\n",
    "bipartite_pick = pd.read_csv('vw_bipartite_pick_names2_202108051321.csv')\n",
    "\n",
    "# Use these csv files in the 'with open' statements below to generate bipartite_10.gexf\n",
    "#names = pd.read_csv ('vw_bipartite_10_names_1_2_202108041606.csv')# For nodes csv\n",
    "#tuples = pd.read_csv ('vw_bipartite_10_202108041605.csv')# For edges.csv\n",
    "\n",
    "# Use these csv files in the 'with open' statements below to generate locations_10.gexf\n",
    "bipartite_pick_names = pd.read_csv ('vw_bipartite_pick_names_1_2_202108051304.csv') # For nodes csv\n",
    "bipartite_pick_tuples = pd.read_csv ('vw_bipartite_pick_202108051303.csv') # For edges.csv\n",
    "\n",
    "\n",
    "with open('vw_bipartite_pick_names_1_2_202108051304.csv', 'r') as nodecsv: # Open the Nodes csv file\n",
    "    nodereader = csv.reader(nodecsv) # Read the csv\n",
    "    nodes = [n for n in nodereader][1:]# Retrieve the data (using Python list comprhension and list slicing\n",
    "                                       # to remove the header row\n",
    "    node_names = [n[0] for n in nodes] # Get a list of only the node names\n",
    "\n",
    "with open('vw_bipartite_pick_202108051303.csv', 'r') as edgecsv: # Open the file\n",
    "    edgereader = csv.reader(edgecsv) # Read the csv\n",
    "    edge_list = list(edgereader) # Convert to list, so can iterate below in for loop\n",
    "    \n",
    "    # Create empty arrays to store edge data and edge attribute data\n",
    "    edges = []\n",
    "    edges_attributes = []\n",
    "    \n",
    "    # Fill the arrays with data from CSV\n",
    "    for e in edge_list[1:]:\n",
    "        edges.append(tuple(e[0:2])) # Get the first 2 columns (source, target) and add to array\n",
    "        # not used this time. edges_attributes.append(tuple(e[2:4])) \n",
    "        # Get the 3rd and 4th columns (first_year, last_year) and add to array\n",
    "    \n",
    "edge_names = [e[0] for e in edges] # Get a list of only the edge names   "
   ]
  },
  {
   "cell_type": "markdown",
   "metadata": {},
   "source": [
    "# 7.16 listing out the data #"
   ]
  },
  {
   "cell_type": "code",
   "execution_count": 3,
   "metadata": {},
   "outputs": [],
   "source": [
    "# List out the societies to be analysed\n",
    "\n",
    "# bipartite_10"
   ]
  },
  {
   "cell_type": "code",
   "execution_count": 4,
   "metadata": {},
   "outputs": [],
   "source": [
    "# List out the community members who have been associated with at least one selected entity.\n",
    "\n",
    "# names"
   ]
  },
  {
   "cell_type": "code",
   "execution_count": 5,
   "metadata": {},
   "outputs": [],
   "source": [
    "# Finally list out the tuples of members and societies \n",
    "# (Note - some members are associated with more that one society)\n",
    "\n",
    "# tuples"
   ]
  },
  {
   "cell_type": "markdown",
   "metadata": {},
   "source": [
    "# 7.17 Use pyplot to make an inital visualisation of the data #\n",
    "\n",
    "We can see that many occupations are thinly populated. \n",
    "\n",
    "We can also see that whilst 'Royal college of Surgeons','Geological Society' and 'Royal Geographical Society' are the largest societal segments several other occupations are well represented. \n",
    "\n",
    "none of the inital segmentation requires qualification. "
   ]
  },
  {
   "cell_type": "code",
   "execution_count": 6,
   "metadata": {},
   "outputs": [
    {
     "ename": "NameError",
     "evalue": "name 'tuples' is not defined",
     "output_type": "error",
     "traceback": [
      "\u001b[1;31m---------------------------------------------------------------------------\u001b[0m",
      "\u001b[1;31mNameError\u001b[0m                                 Traceback (most recent call last)",
      "\u001b[1;32m<ipython-input-6-b54b19db52e7>\u001b[0m in \u001b[0;36m<module>\u001b[1;34m\u001b[0m\n\u001b[1;32m----> 1\u001b[1;33m \u001b[0mtuples\u001b[0m\u001b[1;33m.\u001b[0m\u001b[0mgroupby\u001b[0m\u001b[1;33m(\u001b[0m\u001b[1;34m'Target'\u001b[0m\u001b[1;33m)\u001b[0m\u001b[1;33m[\u001b[0m\u001b[1;34m'Source'\u001b[0m\u001b[1;33m]\u001b[0m\u001b[1;33m.\u001b[0m\u001b[0mnunique\u001b[0m\u001b[1;33m(\u001b[0m\u001b[1;33m)\u001b[0m\u001b[1;33m.\u001b[0m\u001b[0mplot\u001b[0m\u001b[1;33m(\u001b[0m\u001b[0mkind\u001b[0m\u001b[1;33m=\u001b[0m\u001b[1;34m'pie'\u001b[0m\u001b[1;33m)\u001b[0m\u001b[1;33m\u001b[0m\u001b[1;33m\u001b[0m\u001b[0m\n\u001b[0m\u001b[0;32m      2\u001b[0m \u001b[0mplt\u001b[0m\u001b[1;33m.\u001b[0m\u001b[0mtitle\u001b[0m \u001b[1;33m(\u001b[0m\u001b[1;34m\"Popular_bipartite id\"\u001b[0m\u001b[1;33m)\u001b[0m\u001b[1;33m\u001b[0m\u001b[1;33m\u001b[0m\u001b[0m\n\u001b[0;32m      3\u001b[0m \u001b[0mplt\u001b[0m\u001b[1;33m.\u001b[0m\u001b[0mxlabel\u001b[0m \u001b[1;33m(\u001b[0m\u001b[1;34m\"Group\"\u001b[0m\u001b[1;33m)\u001b[0m\u001b[1;33m\u001b[0m\u001b[1;33m\u001b[0m\u001b[0m\n\u001b[0;32m      4\u001b[0m \u001b[0mplt\u001b[0m\u001b[1;33m.\u001b[0m\u001b[0mylabel\u001b[0m \u001b[1;33m(\u001b[0m\u001b[1;34m\"Number of persons\"\u001b[0m\u001b[1;33m)\u001b[0m\u001b[1;33m\u001b[0m\u001b[1;33m\u001b[0m\u001b[0m\n\u001b[0;32m      5\u001b[0m \u001b[0mplt\u001b[0m\u001b[1;33m.\u001b[0m\u001b[0mshow\u001b[0m\u001b[1;33m(\u001b[0m\u001b[1;33m)\u001b[0m\u001b[1;33m\u001b[0m\u001b[1;33m\u001b[0m\u001b[0m\n",
      "\u001b[1;31mNameError\u001b[0m: name 'tuples' is not defined"
     ]
    }
   ],
   "source": [
    "tuples.groupby('Target')['Source'].nunique().plot(kind='pie')\n",
    "plt.title (\"Popular_bipartite id\")\n",
    "plt.xlabel (\"Group\")\n",
    "plt.ylabel (\"Number of persons\")\n",
    "plt.show()"
   ]
  },
  {
   "cell_type": "markdown",
   "metadata": {},
   "source": [
    "# 7.18 Iterative Section 2 - prepare the data for rendering as a graph in Gephi #"
   ]
  },
  {
   "cell_type": "markdown",
   "metadata": {},
   "source": [
    "### Caution - this section depends on the selections made under 'Iterative Section 1' above ###\n",
    "\n",
    "If the initial analysis suggests that a more insightful visualisation might be made by refing the data to be analysed, return to the database and make a new Nodes (Names) csv file and a new Tuples csv file conaining only well populated groups.\n",
    "\n",
    "Then return to Iterative Section 1 codeblock in the workbook and replace the csv files in the 'with open' code lines with the refined datasets.\n",
    "\n",
    "Finally reset the nx.write_gexf (xxx.gexf) xxx statement to a new file name.\n",
    "\n",
    "Then run all code blocks again and make a more insightful gexf file. Use that to produce an improved network graph for Stage 2 analysis.\n",
    "\n",
    "Warning. - Ensure that the statement 'nx.write_gexf' in the last code cell in this section points to a new output file for Gephi. (eg., G, 'xxxx_10.gexf')Failure to set this value correctly will result in the previously generated .gexf file being overwritten instead.\n"
   ]
  },
  {
   "cell_type": "code",
   "execution_count": null,
   "metadata": {},
   "outputs": [],
   "source": [
    "print(\"Nodes length: \", len(node_names))\n",
    "print(\"Edges length: \", len(edges))\n",
    "# not used this time. print(\"Edges attributes length: \", len(edges_attributes)) # This should be the same length as edges"
   ]
  },
  {
   "cell_type": "code",
   "execution_count": null,
   "metadata": {},
   "outputs": [],
   "source": [
    "# First check that the data is correctly formatted\n",
    "\n",
    "print(\"First 5 nodes:\", node_names[0:5])\n",
    "print(\"First 5 edges:\", edges[0:5])\n",
    "# not used this time. print(\"First 5 edges attributes:\", edges_attributes[0:5])\n",
    "\n",
    "# The output will appear below this code cell."
   ]
  },
  {
   "cell_type": "code",
   "execution_count": null,
   "metadata": {},
   "outputs": [],
   "source": [
    "# We use NetworkX to build the graph data into a table\n",
    "\n",
    "G = nx.Graph()\n",
    "G.add_nodes_from(node_names)\n",
    "G.add_edges_from(edges)\n",
    "print(nx.info(G))"
   ]
  },
  {
   "cell_type": "code",
   "execution_count": null,
   "metadata": {},
   "outputs": [],
   "source": [
    "# Finally we can write a gexf file which will be placed in the root directory.\n",
    "# We can then open the file in Gephi and visualise the network.\n",
    "\n",
    "#nx.write_gexf(G, 'bipartite_pick.gexf')"
   ]
  },
  {
   "cell_type": "markdown",
   "metadata": {},
   "source": [
    "# 7.19 Stage 2 - Bipartite analysis with 'noise' removed  #\n",
    "\n",
    "We now re-run the code to generate a new gexf file for gephi. We use the refined pair of nodes (Names) and Tuples files generated in the SQL database that include only the top 17 groups."
   ]
  },
  {
   "cell_type": "code",
   "execution_count": null,
   "metadata": {},
   "outputs": [],
   "source": [
    "bipartite_pick"
   ]
  },
  {
   "cell_type": "code",
   "execution_count": null,
   "metadata": {},
   "outputs": [],
   "source": [
    "bipartite_pick_tuples"
   ]
  },
  {
   "cell_type": "markdown",
   "metadata": {},
   "source": [
    "# 7.20 Simplified graphs can be analysed more easily #"
   ]
  },
  {
   "cell_type": "code",
   "execution_count": null,
   "metadata": {},
   "outputs": [],
   "source": [
    "bipartite_pick_tuples.groupby('Target')['Source'].nunique().plot(kind='pie')\n",
    "plt.title (\"Bipartite_pick id\")\n",
    "plt.xlabel (\"Groups\")\n",
    "plt.ylabel (\"Number of persons\")\n",
    "plt.show()"
   ]
  },
  {
   "cell_type": "markdown",
   "metadata": {},
   "source": [
    "<img src=\"bipartite_pick.png\">"
   ]
  },
  {
   "cell_type": "markdown",
   "metadata": {},
   "source": [
    "The community members most well connected (60%) are densely networked indicating that the CEDA members are able to bring to the task of developing the discipline of anthropology in Britain considerable shared skills, information and knowledge."
   ]
  }
 ],
 "metadata": {
  "kernelspec": {
   "display_name": "Python 3",
   "language": "python",
   "name": "python3"
  },
  "language_info": {
   "codemirror_mode": {
    "name": "ipython",
    "version": 3
   },
   "file_extension": ".py",
   "mimetype": "text/x-python",
   "name": "python",
   "nbconvert_exporter": "python",
   "pygments_lexer": "ipython3",
   "version": "3.8.8"
  }
 },
 "nbformat": 4,
 "nbformat_minor": 4
}
